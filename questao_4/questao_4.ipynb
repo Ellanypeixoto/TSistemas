{
 "cells": [
  {
   "cell_type": "code",
   "execution_count": 93,
   "id": "332941ea",
   "metadata": {},
   "outputs": [],
   "source": [
    "# Importando as bibliotecas necessárias\n",
    "import pandas as pd\n",
    "import numpy as np"
   ]
  },
  {
   "cell_type": "code",
   "execution_count": 94,
   "id": "582ad5d2",
   "metadata": {},
   "outputs": [],
   "source": [
    "# Declarando os tipos das variáveis\n",
    "SP = \"SP\"\n",
    "RJ = \"RJ\"\n",
    "MG = \"MG\"\n",
    "ES = \"ES\"\n",
    "OUTROS = \"OUTROS\"\n",
    "\n",
    "percentual = 0.0\n",
    "percentual_sp = float\n",
    "percentual_rj = float\n",
    "percentual_mg = float\n",
    "percentual_outros = float\n",
    "soma_faturamento_todos_estados = float"
   ]
  },
  {
   "cell_type": "code",
   "execution_count": 95,
   "id": "2d54d1ee",
   "metadata": {},
   "outputs": [
    {
     "name": "stdout",
     "output_type": "stream",
     "text": [
      "        SP       RJ       MG       ES   OUTROS\n",
      "0  6783643  3667866  2922988  2716548  1984953\n"
     ]
    }
   ],
   "source": [
    "# Especificando os dados do faturamento em cada estado\n",
    "\n",
    "faturamento_mensal_por_estado = ({\n",
    "     'SP':[6783643],\n",
    "     'RJ' :[3667866],\n",
    "     'MG':[2922988],\n",
    "     'ES':[2716548],\n",
    "     'OUTROS':[1984953]   \n",
    "               })\n",
    "# Gerando um DataFrame\n",
    "df = pd.DataFrame(faturamento_mensal_por_estado)\n",
    "print(df)"
   ]
  },
  {
   "cell_type": "code",
   "execution_count": 96,
   "id": "09a4ac50",
   "metadata": {},
   "outputs": [
    {
     "name": "stdout",
     "output_type": "stream",
     "text": [
      "[[6783643, 3667866, 2922988, 2716548, 1984953]]\n"
     ]
    }
   ],
   "source": [
    "# Percentual de representação que cada estado teve dentro do valor total mensal da distribuidora:\n",
    "# Resolução: primeiramente, vamos somar o faturamento de todos os estados\n",
    "# Para somar, vamos criar uma lista contendo os valores de faturamento de todos os estados:\n",
    "\n",
    "Row_list =[]\n",
    "  \n",
    "\n",
    "for rows in df.itertuples():\n",
    "    \n",
    "    faturamento_mensal_por_estado =[rows.SP, rows.RJ, rows.MG, rows.ES, rows.OUTROS]\n",
    "      \n",
    "    \n",
    "    Row_list.append(faturamento_mensal_por_estado)\n",
    "  \n",
    "\n",
    "print(Row_list)"
   ]
  },
  {
   "cell_type": "code",
   "execution_count": 97,
   "id": "3b33d47a",
   "metadata": {},
   "outputs": [
    {
     "data": {
      "text/plain": [
       "18075998"
      ]
     },
     "execution_count": 97,
     "metadata": {},
     "output_type": "execute_result"
    }
   ],
   "source": [
    "# Depois de ter criado a lista com todos os valores de faturamento, vamos somar:\n",
    "\n",
    "soma_faturamento_todos_estados = sum(faturamento_mensal_por_estado)\n",
    "soma_faturamento_todos_estados"
   ]
  },
  {
   "cell_type": "code",
   "execution_count": 98,
   "id": "28801455",
   "metadata": {},
   "outputs": [],
   "source": [
    "# Com o valor da somatória obtido, agora vamos calcular o percentual de representação que cada estado teve em relação ao valor total mensal :"
   ]
  },
  {
   "cell_type": "code",
   "execution_count": 99,
   "id": "54ada2f2",
   "metadata": {},
   "outputs": [
    {
     "data": {
      "text/plain": [
       "0.3752845624346717"
      ]
     },
     "execution_count": 99,
     "metadata": {},
     "output_type": "execute_result"
    }
   ],
   "source": [
    "# Percentual do estado de SP:\n",
    "\n",
    "SP = 6783643\n",
    "TOTAL = 18075998\n",
    "percentual_sp = (6783643/18075998)\n",
    "percentual_sp"
   ]
  },
  {
   "cell_type": "code",
   "execution_count": 100,
   "id": "4ca5902e",
   "metadata": {},
   "outputs": [
    {
     "data": {
      "text/plain": [
       "'0.38'"
      ]
     },
     "execution_count": 100,
     "metadata": {},
     "output_type": "execute_result"
    }
   ],
   "source": [
    "percentual_sp_formatado = \"{:.2f}\".format(percentual_sp)\n",
    "percentual_sp_formatado"
   ]
  },
  {
   "cell_type": "code",
   "execution_count": 101,
   "id": "7c8363cd",
   "metadata": {},
   "outputs": [
    {
     "data": {
      "text/plain": [
       "38.0"
      ]
     },
     "execution_count": 101,
     "metadata": {},
     "output_type": "execute_result"
    }
   ],
   "source": [
    "percentual_sp_formatado_final = 0.38*100\n",
    "percentual_sp_formatado_final"
   ]
  },
  {
   "cell_type": "code",
   "execution_count": 102,
   "id": "006608e6",
   "metadata": {},
   "outputs": [
    {
     "data": {
      "text/plain": [
       "0.2029136095279497"
      ]
     },
     "execution_count": 102,
     "metadata": {},
     "output_type": "execute_result"
    }
   ],
   "source": [
    "# Percentual do estado do RJ:\n",
    "\n",
    "RJ = 3667866\n",
    "TOTAL = 18075998\n",
    "percentual_rj = (3667866/18075998)\n",
    "percentual_rj"
   ]
  },
  {
   "cell_type": "code",
   "execution_count": 103,
   "id": "98c721f3",
   "metadata": {},
   "outputs": [
    {
     "data": {
      "text/plain": [
       "'0.20'"
      ]
     },
     "execution_count": 103,
     "metadata": {},
     "output_type": "execute_result"
    }
   ],
   "source": [
    "percentual_rj_formatado = \"{:.2f}\".format(percentual_rj)\n",
    "percentual_rj_formatado"
   ]
  },
  {
   "cell_type": "code",
   "execution_count": 104,
   "id": "53a5b4da",
   "metadata": {},
   "outputs": [
    {
     "data": {
      "text/plain": [
       "20.0"
      ]
     },
     "execution_count": 104,
     "metadata": {},
     "output_type": "execute_result"
    }
   ],
   "source": [
    "percentual_rj_formatado_final = 0.20*100\n",
    "percentual_rj_formatado_final"
   ]
  },
  {
   "cell_type": "code",
   "execution_count": 105,
   "id": "78338f80",
   "metadata": {},
   "outputs": [
    {
     "data": {
      "text/plain": [
       "0.16170548370275323"
      ]
     },
     "execution_count": 105,
     "metadata": {},
     "output_type": "execute_result"
    }
   ],
   "source": [
    "# Percentual do estado de MG:\n",
    "\n",
    "MG = 2922988\n",
    "TOTAL = 18075998\n",
    "percentual_mg = (2922988/18075998)\n",
    "percentual_mg"
   ]
  },
  {
   "cell_type": "code",
   "execution_count": 106,
   "id": "3ae8eb66",
   "metadata": {},
   "outputs": [
    {
     "data": {
      "text/plain": [
       "'0.16'"
      ]
     },
     "execution_count": 106,
     "metadata": {},
     "output_type": "execute_result"
    }
   ],
   "source": [
    "percentual_mg_formatado = \"{:.2f}\".format(percentual_mg)\n",
    "percentual_mg_formatado"
   ]
  },
  {
   "cell_type": "code",
   "execution_count": 107,
   "id": "1f6b05c5",
   "metadata": {},
   "outputs": [
    {
     "data": {
      "text/plain": [
       "16.0"
      ]
     },
     "execution_count": 107,
     "metadata": {},
     "output_type": "execute_result"
    }
   ],
   "source": [
    "percentual_mg_formatado_final = 0.16*100\n",
    "percentual_mg_formatado_final"
   ]
  },
  {
   "cell_type": "code",
   "execution_count": 108,
   "id": "42fa1f9f",
   "metadata": {},
   "outputs": [
    {
     "data": {
      "text/plain": [
       "0.1502848141496807"
      ]
     },
     "execution_count": 108,
     "metadata": {},
     "output_type": "execute_result"
    }
   ],
   "source": [
    "# Percentual do estado do ES:\n",
    "\n",
    "ES = 2716548\n",
    "TOTAL = 18075998\n",
    "percentual_es = float(2716548/18075998)\n",
    "percentual_es"
   ]
  },
  {
   "cell_type": "code",
   "execution_count": 109,
   "id": "624a0b3c",
   "metadata": {},
   "outputs": [
    {
     "data": {
      "text/plain": [
       "'0.15'"
      ]
     },
     "execution_count": 109,
     "metadata": {},
     "output_type": "execute_result"
    }
   ],
   "source": [
    "percentual_es_formatado = \"{:.2f}\".format(percentual_es)\n",
    "percentual_es_formatado"
   ]
  },
  {
   "cell_type": "code",
   "execution_count": 110,
   "id": "4eca866b",
   "metadata": {},
   "outputs": [
    {
     "data": {
      "text/plain": [
       "15.0"
      ]
     },
     "execution_count": 110,
     "metadata": {},
     "output_type": "execute_result"
    }
   ],
   "source": [
    "percentual_es_formatado_final = 0.15*100\n",
    "percentual_es_formatado_final"
   ]
  },
  {
   "cell_type": "code",
   "execution_count": 111,
   "id": "b918ec35",
   "metadata": {},
   "outputs": [
    {
     "data": {
      "text/plain": [
       "0.1098115301849447"
      ]
     },
     "execution_count": 111,
     "metadata": {},
     "output_type": "execute_result"
    }
   ],
   "source": [
    "# Percentual dos outros estados:\n",
    "\n",
    "OUTROS = 1984953\n",
    "TOTAL = 18075998\n",
    "percentual_outros = (1984953/18075998)\n",
    "percentual_outros"
   ]
  },
  {
   "cell_type": "code",
   "execution_count": 112,
   "id": "c30ca8d0",
   "metadata": {},
   "outputs": [
    {
     "data": {
      "text/plain": [
       "'0.11'"
      ]
     },
     "execution_count": 112,
     "metadata": {},
     "output_type": "execute_result"
    }
   ],
   "source": [
    "percentual_outros_formatado = \"{:.2f}\".format(percentual_outros)\n",
    "percentual_outros_formatado"
   ]
  },
  {
   "cell_type": "code",
   "execution_count": 113,
   "id": "c66fd75f",
   "metadata": {},
   "outputs": [
    {
     "data": {
      "text/plain": [
       "11.0"
      ]
     },
     "execution_count": 113,
     "metadata": {},
     "output_type": "execute_result"
    }
   ],
   "source": [
    "percentual_outros_formatado_final =0.11*100\n",
    "percentual_outros_formatado_final"
   ]
  },
  {
   "cell_type": "code",
   "execution_count": 114,
   "id": "4d079944",
   "metadata": {},
   "outputs": [],
   "source": [
    "# Desenvolvendo o programa para o usuário descobrir o percentual de cada estado"
   ]
  },
  {
   "cell_type": "code",
   "execution_count": 115,
   "id": "d391574a",
   "metadata": {},
   "outputs": [
    {
     "name": "stdout",
     "output_type": "stream",
     "text": [
      "digite o estado de seu interesse (opções: SP, RJ, MG, SP ou OUTROS) e saiba o percentual de faturamento da distribuidora em relação ao faturamento de todos os estados no mês:SP\n"
     ]
    }
   ],
   "source": [
    "estado = input(\"digite o estado de seu interesse (opções: SP, RJ, MG, SP ou OUTROS) e saiba o percentual de faturamento da distribuidora em relação ao faturamento de todos os estados no mês:\")"
   ]
  },
  {
   "cell_type": "code",
   "execution_count": 116,
   "id": "a43c9177",
   "metadata": {},
   "outputs": [
    {
     "name": "stdout",
     "output_type": "stream",
     "text": [
      "SP\n"
     ]
    }
   ],
   "source": [
    "print(estado)"
   ]
  },
  {
   "cell_type": "code",
   "execution_count": 117,
   "id": "e3470a0a",
   "metadata": {},
   "outputs": [],
   "source": [
    "if estado == \"SP\":\n",
    "    percentual = 38.0"
   ]
  },
  {
   "cell_type": "code",
   "execution_count": 118,
   "id": "cf94d8f4",
   "metadata": {},
   "outputs": [],
   "source": [
    "if estado == \"RJ\":\n",
    "    percentual = 20.0"
   ]
  },
  {
   "cell_type": "code",
   "execution_count": 119,
   "id": "ee7f6cc0",
   "metadata": {},
   "outputs": [],
   "source": [
    "if estado == \"MG\":\n",
    "    percentual = 16.0"
   ]
  },
  {
   "cell_type": "code",
   "execution_count": 120,
   "id": "3079dac6",
   "metadata": {},
   "outputs": [],
   "source": [
    "if estado == \"ES\":\n",
    "    percentual = 15.0"
   ]
  },
  {
   "cell_type": "code",
   "execution_count": 121,
   "id": "9cded0b7",
   "metadata": {},
   "outputs": [],
   "source": [
    "if estado == \"OUTROS\":\n",
    "    percentual = 11.0"
   ]
  },
  {
   "cell_type": "code",
   "execution_count": 122,
   "id": "e206fc20",
   "metadata": {},
   "outputs": [
    {
     "name": "stdout",
     "output_type": "stream",
     "text": [
      "O percentual de faturamento em relação ao faturamento total mensal distribuidora, no estado de SP é 38.0\n"
     ]
    }
   ],
   "source": [
    "# Resposta final\n",
    "print(f\"O percentual de faturamento em relação ao faturamento total mensal distribuidora, no estado de {estado} é {percentual}\")"
   ]
  },
  {
   "cell_type": "code",
   "execution_count": null,
   "id": "788f0aa8",
   "metadata": {},
   "outputs": [],
   "source": []
  }
 ],
 "metadata": {
  "kernelspec": {
   "display_name": "Python 3 (ipykernel)",
   "language": "python",
   "name": "python3"
  },
  "language_info": {
   "codemirror_mode": {
    "name": "ipython",
    "version": 3
   },
   "file_extension": ".py",
   "mimetype": "text/x-python",
   "name": "python",
   "nbconvert_exporter": "python",
   "pygments_lexer": "ipython3",
   "version": "3.9.12"
  }
 },
 "nbformat": 4,
 "nbformat_minor": 5
}
