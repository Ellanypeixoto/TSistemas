{
 "cells": [
  {
   "cell_type": "code",
   "execution_count": 1,
   "id": "9a4171a3",
   "metadata": {},
   "outputs": [],
   "source": [
    "# Declarando os tipos das variáveis:\n",
    "palavra = str\n",
    "palavra_invertida = str"
   ]
  },
  {
   "cell_type": "code",
   "execution_count": 2,
   "id": "e64f1f94",
   "metadata": {},
   "outputs": [
    {
     "name": "stdout",
     "output_type": "stream",
     "text": [
      "Digite uma palavra:\n"
     ]
    }
   ],
   "source": [
    "# Solicitando ao usuário que digite uma palavra:\n",
    "print(\"Digite uma palavra:\")"
   ]
  },
  {
   "cell_type": "code",
   "execution_count": null,
   "id": "010e5e92",
   "metadata": {},
   "outputs": [],
   "source": [
    "palavra = input(\"\")"
   ]
  },
  {
   "cell_type": "code",
   "execution_count": null,
   "id": "91fa4549",
   "metadata": {},
   "outputs": [],
   "source": [
    "# invertendo a palavra digitada pelo usuário:"
   ]
  },
  {
   "cell_type": "code",
   "execution_count": null,
   "id": "92024e6a",
   "metadata": {},
   "outputs": [],
   "source": [
    "palavra_invertida = palavra[::-1]\n",
    "print(palavra_invertida) "
   ]
  },
  {
   "cell_type": "code",
   "execution_count": null,
   "id": "c9539ce3",
   "metadata": {},
   "outputs": [],
   "source": [
    "#imprimindo na tela o resultado da palavra invertida:\n",
    "print(\"A palavra invertida é:\", palavra_invertida)"
   ]
  }
 ],
 "metadata": {
  "kernelspec": {
   "display_name": "Python 3 (ipykernel)",
   "language": "python",
   "name": "python3"
  },
  "language_info": {
   "codemirror_mode": {
    "name": "ipython",
    "version": 3
   },
   "file_extension": ".py",
   "mimetype": "text/x-python",
   "name": "python",
   "nbconvert_exporter": "python",
   "pygments_lexer": "ipython3",
   "version": "3.9.12"
  }
 },
 "nbformat": 4,
 "nbformat_minor": 5
}
